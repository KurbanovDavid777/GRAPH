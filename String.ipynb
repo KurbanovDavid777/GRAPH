{
  "nbformat": 4,
  "nbformat_minor": 0,
  "metadata": {
    "colab": {
      "provenance": []
    },
    "kernelspec": {
      "name": "python3",
      "display_name": "Python 3"
    },
    "language_info": {
      "name": "python"
    }
  },
  "cells": [
    {
      "cell_type": "code",
      "execution_count": 1,
      "metadata": {
        "id": "j8KBZFBqvKS_"
      },
      "outputs": [],
      "source": [
        "# функция longest_prefix_suffix принимает строку s\n",
        "def longest_prefix_suffix(s: str) -> str:\n",
        "    # вычисляем длину строки s и сохраняем в n\n",
        "    n = len(s)\n",
        "    # создаём массив pi длиной n, заполненный нулями\n",
        "    pi = [0] * n\n",
        "\n",
        "    # строим pi-функцию\n",
        "    for i in range(1, n):\n",
        "        j = pi[i - 1]  # длина текущего префикса\n",
        "        while j > 0 and s[i] != s[j]:\n",
        "            j = pi[j - 1]  # s[i] не совпадает с символом s[j] и j > 0, откатываемся к предыдущему возможному префиксу\n",
        "        if s[i] == s[j]:\n",
        "            j += 1 # если символы совпали, увеличиваем j на 1, длина совпадающего префикса увеличилась на 1\n",
        "        pi[i] = j\n",
        "\n",
        "    # длина наибольшего префикса-ссуффикса\n",
        "    length = pi[-1]\n",
        "    return s[:length] if length > 0 else \"\""
      ]
    }
  ]
}