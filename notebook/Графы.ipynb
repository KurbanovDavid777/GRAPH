{
  "nbformat": 4,
  "nbformat_minor": 0,
  "metadata": {
    "colab": {
      "provenance": []
    },
    "kernelspec": {
      "name": "python3",
      "display_name": "Python 3"
    },
    "language_info": {
      "name": "python"
    }
  },
  "cells": [
    {
      "cell_type": "markdown",
      "source": [
        " Flood Fill"
      ],
      "metadata": {
        "id": "yEw4dSlrMYu2"
      }
    },
    {
      "cell_type": "code",
      "source": [
        "from typing import List\n",
        "\n",
        "class Solution:\n",
        "    def floodFill(self, image: List[List[int]], sr: int, sc: int, color: int) -> List[List[int]]:\n",
        "        start_color = image[sr][sc] #изначальный цвет пикселя\n",
        "        if start_color == color:\n",
        "            return image  #если цвет тот же, то мы оставляем все как есть\n",
        "\n",
        "        rows, cols = len(image), len(image[0]) #ограничиваемся размерами изображеня\n",
        "\n",
        "        def dfs(r, c):\n",
        "            #проверяем, не вышли ли мы за границы\n",
        "            if r < 0 or r >= rows or c < 0 or c >= cols:\n",
        "                return\n",
        "            if image[r][c] != start_color: #если пиксель другого цвета, и он не принадлжеит области, мы его заливаем\n",
        "                return\n",
        "\n",
        "            image[r][c] = color #меняем цвет этого пикселя\n",
        "\n",
        "            #идём на все 4 стороны\n",
        "            dfs(r, c+1)\n",
        "            dfs(r, c-1)\n",
        "            dfs(r+1, c)\n",
        "            dfs(r-1, c)\n",
        "\n",
        "\n",
        "        dfs(sr, sc)\n",
        "        return image\n"
      ],
      "metadata": {
        "id": "n3KSpbuwMZbK"
      },
      "execution_count": null,
      "outputs": []
    },
    {
      "cell_type": "code",
      "source": [
        "if __name__ == \"__main__\":\n",
        "    sol = Solution()\n",
        "    image = [[1,1,1],[1,1,0],[1,0,1]]\n",
        "    print(sol.floodFill(image, 1, 1, 2))\n"
      ],
      "metadata": {
        "colab": {
          "base_uri": "https://localhost:8080/"
        },
        "id": "WrXN4pmCM39V",
        "outputId": "2a3ba918-a911-4c9f-b5b1-c26c7f46b7a4"
      },
      "execution_count": null,
      "outputs": [
        {
          "output_type": "stream",
          "name": "stdout",
          "text": [
            "[[2, 2, 2], [2, 2, 0], [2, 0, 1]]\n"
          ]
        }
      ]
    },
    {
      "cell_type": "markdown",
      "source": [
        "Max Area of Island"
      ],
      "metadata": {
        "id": "sHm49LTsOXk3"
      }
    },
    {
      "cell_type": "code",
      "source": [
        "from typing import List\n",
        "\n",
        "class Solution:\n",
        "    def maxAreaOfIsland(self, grid: List[List[int]]) -> int:\n",
        "        rows, cols = len(grid), len(grid[0])\n",
        "        max_area = 0\n",
        "\n",
        "        def dfs(r, c):\n",
        "            if r < 0 or r >= rows or c < 0 or c >= cols or grid[r][c] == 0: #это когда мы вышли за границы, следовательно, останавливаемся\n",
        "                return 0\n",
        "\n",
        "            grid[r][c] = 0 #отмечаем, как посетили\n",
        "\n",
        "            return 1 + dfs(r+1, c) + dfs(r, c-1) + dfs(r, c+1) + dfs(r-1, c) #площадь вычисляется как 1 + сумма всех соседних клеток по всем 4-м направлениям\n",
        "\n",
        "        for r in range(rows):\n",
        "            for c in range(cols):  #находим площадь острова\n",
        "                if grid[r][c] == 1:\n",
        "                    area = dfs(r, c)\n",
        "                    max_area = max(max_area, area)\n",
        "\n",
        "        return max_area\n"
      ],
      "metadata": {
        "id": "vgZ7e24pSceg"
      },
      "execution_count": null,
      "outputs": []
    },
    {
      "cell_type": "markdown",
      "source": [
        "Number of Provinces"
      ],
      "metadata": {
        "id": "s55y70HrHf67"
      }
    },
    {
      "cell_type": "code",
      "source": [
        "def findCircleNum(isConnected):\n",
        "    n = len(isConnected)  #число строк/столбцов в матрицу (общее кол-во городов)\n",
        "    visited = set()  #множество, в котором будем хранить города, которые посетили\n",
        "\n",
        "    def dfs(city):\n",
        "        # Проходим по всем возможным соседям\n",
        "        for neighbor in range(n):\n",
        "            # если между городом и соседом есть дорога и сосед не посещен\n",
        "            if isConnected[city][neighbor] == 1 and neighbor not in visited:\n",
        "                visited.add(neighbor) #отмечаем, что посетили\n",
        "                dfs(neighbor)  #идем дальше и ищем соседа\n",
        "\n",
        "    provinces = 0\n",
        "\n",
        "    #Обходим все города\n",
        "    for i in range(n):\n",
        "        if i not in visited: #если город не посещен, то мы запускам функцию dfs с него\n",
        "            dfs(i)\n",
        "            provinces += 1\n",
        "\n",
        "    return provinces"
      ],
      "metadata": {
        "id": "qtxLaT76LRzA"
      },
      "execution_count": null,
      "outputs": []
    }
  ]
}