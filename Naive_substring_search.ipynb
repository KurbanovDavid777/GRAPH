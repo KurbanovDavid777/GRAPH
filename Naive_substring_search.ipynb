{
  "nbformat": 4,
  "nbformat_minor": 0,
  "metadata": {
    "colab": {
      "provenance": []
    },
    "kernelspec": {
      "name": "python3",
      "display_name": "Python 3"
    },
    "language_info": {
      "name": "python"
    }
  },
  "cells": [
    {
      "cell_type": "markdown",
      "source": [
        "# **Naive substring search**"
      ],
      "metadata": {
        "id": "R6SKVbvJ9fY1"
      }
    },
    {
      "cell_type": "code",
      "execution_count": 1,
      "metadata": {
        "id": "Fif1T3rJ9WrR"
      },
      "outputs": [],
      "source": [
        "def longest_prefix_suffix_naive(s: str) -> str:\n",
        "    n = len(s)  #длина заданной строки\n",
        "    #идём от самой длинной возможной длины префикса до 1\n",
        "    for length in range(n-1, 0, -1):\n",
        "        if s[:length] == s[-length:]:  #сравниваем префикс и суффикс\n",
        "            return s[:length]  #если, нашли совпадение, то  возвращаем\n",
        "    return \"\"  #совпадений нет"
      ]
    },
    {
      "cell_type": "code",
      "source": [
        "test_strings = [\"ababcab\"]\n",
        "\n",
        "for s in test_strings:\n",
        "    result = longest_prefix_suffix_naive(s)\n",
        "    print(f\"Строка: {s} самый длинный префикс-суффикс: '{result}'\")"
      ],
      "metadata": {
        "colab": {
          "base_uri": "https://localhost:8080/"
        },
        "id": "h8V6ksRx98aw",
        "outputId": "f53410c9-f117-4155-d265-18c53b812138"
      },
      "execution_count": 4,
      "outputs": [
        {
          "output_type": "stream",
          "name": "stdout",
          "text": [
            "Строка: ababcab самый длинный префикс-суффикс: 'ab'\n"
          ]
        }
      ]
    }
  ]
}